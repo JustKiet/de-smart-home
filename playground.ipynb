{
 "cells": [
  {
   "cell_type": "code",
   "execution_count": 2,
   "metadata": {},
   "outputs": [
    {
     "name": "stdout",
     "output_type": "stream",
     "text": [
      "❌ Connection failed: server rejected WebSocket connection: HTTP 403\n"
     ]
    }
   ],
   "source": [
    "import asyncio\n",
    "import websockets\n",
    "import nest_asyncio  # ✅ Fixes event loop issue in Jupyter\n",
    "\n",
    "nest_asyncio.apply()  # 🔧 Allow nested event loops\n",
    "\n",
    "async def test_ws():\n",
    "    uri = \"ws://localhost:8000/microphone_stream\"\n",
    "    try:\n",
    "        async with websockets.connect(uri) as websocket:\n",
    "            print(\"✅ WebSocket is UP and accepting connections!\")\n",
    "    except Exception as e:\n",
    "        print(f\"❌ Connection failed: {e}\")\n",
    "\n",
    "# Run the coroutine properly in Jupyter\n",
    "await test_ws()\n"
   ]
  },
  {
   "cell_type": "code",
   "execution_count": null,
   "metadata": {},
   "outputs": [
    {
     "name": "stdout",
     "output_type": "stream",
     "text": [
      "hi\n"
     ]
    }
   ],
   "source": [
    "class A:\n",
    "    def __init__(self, bar):\n",
    "        self._bar = bar\n",
    "        \n",
    "    @property\n",
    "    def bar(self):\n",
    "        return self._bar\n",
    "    \n",
    "class B:\n",
    "    def __init__(self, bar):\n",
    "        self._bar = bar\n",
    "        \n",
    "    @property\n",
    "    def bar(self):\n",
    "        return self._bar\n",
    "\n",
    "class C(A, B):\n",
    "    def __init__(self, bar):\n",
    "        super().__init__(bar=bar)\n",
    "\n",
    "c = C(\"hi\")\n",
    "print(c.bar)"
   ]
  },
  {
   "cell_type": "code",
   "execution_count": 4,
   "metadata": {},
   "outputs": [
    {
     "name": "stdout",
     "output_type": "stream",
     "text": [
      "de-smart-home/\n",
      "├── .gitignore\n",
      "├── README.md\n",
      "├── backend\n",
      "│   ├── api\n",
      "│   │   ├── __init__.py\n",
      "│   │   └── routes\n",
      "│   │       ├── __init__.py\n",
      "│   │       ├── microphone.py\n",
      "│   │       └── speaker.py\n",
      "│   ├── clients\n",
      "│   │   ├── __init__.py\n",
      "│   │   ├── ptt_client.py\n",
      "│   │   └── realtime_client.py\n",
      "│   ├── config.py\n",
      "│   ├── devices\n",
      "│   │   ├── __init__.py\n",
      "│   │   ├── ac_device.py\n",
      "│   │   ├── interfaces\n",
      "│   │   │   ├── __init__.py\n",
      "│   │   │   ├── common\n",
      "│   │   │   │   ├── __init__.py\n",
      "│   │   │   │   ├── control_power.py\n",
      "│   │   │   │   └── device_status.py\n",
      "│   │   │   ├── control_ac.py\n",
      "│   │   │   ├── control_camera.py\n",
      "│   │   │   ├── control_door.py\n",
      "│   │   │   ├── control_light.py\n",
      "│   │   │   ├── control_microphone.py\n",
      "│   │   │   ├── control_sensor.py\n",
      "│   │   │   ├── control_speaker.py\n",
      "│   │   │   └── sensors\n",
      "│   │   │       └── __init__.py\n",
      "│   │   ├── light_device.py\n",
      "│   │   ├── microphone_device.py\n",
      "│   │   └── speaker_device.py\n",
      "│   ├── gateways\n",
      "│   │   ├── __init__.py\n",
      "│   │   ├── ac_gateway.py\n",
      "│   │   ├── audio_gateway.py\n",
      "│   │   ├── camera_gateway.py\n",
      "│   │   ├── door_gateway.py\n",
      "│   │   ├── interfaces\n",
      "│   │   │   ├── __init__.py\n",
      "│   │   │   ├── common\n",
      "│   │   │   │   ├── __init__.py\n",
      "│   │   │   │   └── control_gateway.py\n",
      "│   │   │   ├── manage_ac.py\n",
      "│   │   │   └── manage_speaker.py\n",
      "│   │   └── light_gateway.py\n",
      "│   └── main.py\n",
      "├── playground.ipynb\n",
      "├── requirements.txt\n",
      "└── setup.py\n"
     ]
    }
   ],
   "source": [
    "import requests\n",
    "\n",
    "def fetch_github_tree(owner, repo, branch=\"develop\", ignore_folders=None, indent=\"\"):\n",
    "    \"\"\"Fetch and display the directory structure of a GitHub repo without cloning.\"\"\"\n",
    "    if ignore_folders is None:\n",
    "        ignore_folders = []\n",
    "\n",
    "    url = f\"https://api.github.com/repos/{owner}/{repo}/git/trees/{branch}?recursive=1\"\n",
    "    response = requests.get(url)\n",
    "\n",
    "    if response.status_code != 200:\n",
    "        print(f\"Error: {response.status_code} - {response.json().get('message', 'Failed to fetch repo')}\")\n",
    "        return\n",
    "\n",
    "    tree = response.json().get(\"tree\", [])\n",
    "\n",
    "    # Build a nested directory structure\n",
    "    file_tree = {}\n",
    "    for item in tree:\n",
    "        path_parts = item[\"path\"].split(\"/\")\n",
    "        current_level = file_tree\n",
    "        for part in path_parts:\n",
    "            if part not in current_level:\n",
    "                current_level[part] = {}\n",
    "            current_level = current_level[part]\n",
    "\n",
    "    def print_tree(tree, prefix=\"\"):\n",
    "        \"\"\"Recursive function to print the directory structure.\"\"\"\n",
    "        for i, key in enumerate(sorted(tree.keys())):\n",
    "            connector = \"└── \" if i == len(tree) - 1 else \"├── \"\n",
    "            if key not in ignore_folders:\n",
    "                print(prefix + connector + key)\n",
    "                print_tree(tree[key], prefix + (\"    \" if i == len(tree) - 1 else \"│   \"))\n",
    "\n",
    "    print(f\"{repo}/\")\n",
    "    print_tree(file_tree)\n",
    "\n",
    "# Example usage\n",
    "fetch_github_tree(\"JustKiet\", \"de-smart-home\", ignore_folders=[\".git\", \"__pycache__\"])\n"
   ]
  }
 ],
 "metadata": {
  "kernelspec": {
   "display_name": ".venv",
   "language": "python",
   "name": "python3"
  },
  "language_info": {
   "codemirror_mode": {
    "name": "ipython",
    "version": 3
   },
   "file_extension": ".py",
   "mimetype": "text/x-python",
   "name": "python",
   "nbconvert_exporter": "python",
   "pygments_lexer": "ipython3",
   "version": "3.11.1"
  }
 },
 "nbformat": 4,
 "nbformat_minor": 2
}
