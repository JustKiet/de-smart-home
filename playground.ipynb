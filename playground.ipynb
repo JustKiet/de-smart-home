{
 "cells": [
  {
   "cell_type": "code",
   "execution_count": 2,
   "metadata": {},
   "outputs": [
    {
     "name": "stdout",
     "output_type": "stream",
     "text": [
      "❌ Connection failed: server rejected WebSocket connection: HTTP 403\n"
     ]
    }
   ],
   "source": [
    "import asyncio\n",
    "import websockets\n",
    "import nest_asyncio  # ✅ Fixes event loop issue in Jupyter\n",
    "\n",
    "nest_asyncio.apply()  # 🔧 Allow nested event loops\n",
    "\n",
    "async def test_ws():\n",
    "    uri = \"ws://localhost:8000/microphone_stream\"\n",
    "    try:\n",
    "        async with websockets.connect(uri) as websocket:\n",
    "            print(\"✅ WebSocket is UP and accepting connections!\")\n",
    "    except Exception as e:\n",
    "        print(f\"❌ Connection failed: {e}\")\n",
    "\n",
    "# Run the coroutine properly in Jupyter\n",
    "await test_ws()\n"
   ]
  },
  {
   "cell_type": "code",
   "execution_count": 1,
   "metadata": {},
   "outputs": [
    {
     "name": "stdout",
     "output_type": "stream",
     "text": [
      "bar\n"
     ]
    }
   ],
   "source": [
    "class Foo:\n",
    "    def __init__(self):\n",
    "        self._bar = \"bar\"\n",
    "        \n",
    "    @property\n",
    "    def bar(self):\n",
    "        return self._bar\n",
    "    \n",
    "foo =  Foo()\n",
    "print(foo.bar)"
   ]
  }
 ],
 "metadata": {
  "kernelspec": {
   "display_name": ".venv",
   "language": "python",
   "name": "python3"
  },
  "language_info": {
   "codemirror_mode": {
    "name": "ipython",
    "version": 3
   },
   "file_extension": ".py",
   "mimetype": "text/x-python",
   "name": "python",
   "nbconvert_exporter": "python",
   "pygments_lexer": "ipython3",
   "version": "3.11.1"
  }
 },
 "nbformat": 4,
 "nbformat_minor": 2
}
